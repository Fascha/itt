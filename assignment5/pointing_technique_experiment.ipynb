{
 "cells": [
  {
   "cell_type": "markdown",
   "metadata": {},
   "source": [
    "# Pointing Technique Experiment"
   ]
  },
  {
   "cell_type": "markdown",
   "metadata": {},
   "source": [
    "This experiment was conducted to evaluate a pointing technique which should help the user select objects. Therefore, participants had to perform two sets of tasks in which they were presented a number of targets where one of them was highlighted in a green color.The participant was asked to try to click as fast as possible on the highlighted target. \n",
    "One time they had to perform the tasks with a standard mouse pointer and the other time with a new pointing technique, where the closest target to the cursor was highlighted in a red color and could be directly selected by the participant - without moving the cursor to the position of the highlighted circle. This was visually presented to the user in form of a blue bubble.\n",
    "Participant 1 and 3 had to perform the new pointing technique first and afterwards the standard pointing technique. Participants 2 and 4 performed the tasks the other way round, so they started with the standard technique and than the new technique.\n",
    "The experiment was set up with the follwing variables and conditions:\n",
    "\n",
    "Independent variables: \n",
    "type of pointing technique (new pointing technique or standard), \n",
    "distances between starting position and position of targets (125, 200, 275, 350), \n",
    "sizes of targets (16, 32),\n",
    "participants\n",
    "    \n",
    "Dependent variables: \n",
    "reaction time in microseconds, error rate\n",
    "    \n",
    "Control variables: \n",
    "starting position (always the middle of the window), \n",
    "number of distraction circles (50)\n",
    "\n",
    "Each set of tasks consisted of 16 tasks with varying values of the independent variables distances and sizes. The variations were generated in a pseudo-randomized order, so that each distance condition was generated 4 times and each size of the target was shown 8 times. Furthermore, it was ensured that each distance was shown exactly 2 times with the smaller targets and 2 times with the larger targets.\n",
    "The following hypothesis was definded:\n",
    "The reaction time of the bubble pointing technique is smaller than the reaction time of the standard poiting technqiue.\n",
    "The error rate of the bubble pointing technique is smaller than the error rate of the standard pointing technique.\n",
    "4 participants took part in the experiment. They were all between the ages of 23 and 25 and are studying at the University of Regensburg."
   ]
  },
  {
   "cell_type": "markdown",
   "metadata": {},
   "source": [
    "# TODO\n",
    "\n",
    "\n",
    "bubble_cursor vs. non_bubble\n",
    "\n",
    "size16 vs size32\n",
    "\n",
    "distances\n",
    "\n",
    "error_rate\n",
    "\n",
    "\n",
    "\n",
    "grafiken:\n",
    "- timeontask (bubble vs non-bubble)\n",
    "- error (bubble16 vs bubble32 vs non-bubble16 vs non-bubble32)\n",
    "- timeontask (distance1 vs distance2 vs distance3 vs distance4) (fitts law) \n",
    "log(2D / W) D= distanz; W=Größe vs 8conditions\n",
    "vergleich bubble und nicht bubble\n"
   ]
  },
  {
   "cell_type": "code",
   "execution_count": 10,
   "metadata": {
    "collapsed": true
   },
   "outputs": [],
   "source": [
    "import numpy as np\n",
    "import pandas as pd\n",
    "\n",
    "%matplotlib inline\n",
    "from pylab import *"
   ]
  },
  {
   "cell_type": "markdown",
   "metadata": {
    "collapsed": true
   },
   "source": [
    "code which imports the raw data from a CSV file and extracts the relevant data for further processing\n",
    "(the CSV file should be in the same directory)"
   ]
  },
  {
   "cell_type": "code",
   "execution_count": 11,
   "metadata": {
    "collapsed": true
   },
   "outputs": [],
   "source": [
    "data = []\n",
    "for i in range(1,4):\n",
    "    data.append(np.genfromtxt('pointing_experiment_result_{}.csv'.format(i), dtype=None, delimiter=',', names=True))\n",
    "    \n",
    "data1, data2, data3 = data"
   ]
  },
  {
   "cell_type": "code",
   "execution_count": null,
   "metadata": {
    "collapsed": true
   },
   "outputs": [],
   "source": []
  },
  {
   "cell_type": "code",
   "execution_count": 12,
   "metadata": {},
   "outputs": [
    {
     "data": {
      "text/html": [
       "<div>\n",
       "<style>\n",
       "    .dataframe thead tr:only-child th {\n",
       "        text-align: right;\n",
       "    }\n",
       "\n",
       "    .dataframe thead th {\n",
       "        text-align: left;\n",
       "    }\n",
       "\n",
       "    .dataframe tbody tr th {\n",
       "        vertical-align: top;\n",
       "    }\n",
       "</style>\n",
       "<table border=\"1\" class=\"dataframe\">\n",
       "  <thead>\n",
       "    <tr style=\"text-align: right;\">\n",
       "      <th></th>\n",
       "      <th>timestamp</th>\n",
       "      <th>id</th>\n",
       "      <th>num_task</th>\n",
       "      <th>target_distance</th>\n",
       "      <th>target_size</th>\n",
       "      <th>bubble_pointer</th>\n",
       "      <th>reaction_time</th>\n",
       "      <th>number_of_errors</th>\n",
       "      <th>start_x</th>\n",
       "      <th>start_y</th>\n",
       "      <th>click_x</th>\n",
       "      <th>click_y</th>\n",
       "    </tr>\n",
       "  </thead>\n",
       "  <tbody>\n",
       "    <tr>\n",
       "      <th>0</th>\n",
       "      <td>2017-06-13T18:55:21</td>\n",
       "      <td>0</td>\n",
       "      <td>0</td>\n",
       "      <td>200</td>\n",
       "      <td>32</td>\n",
       "      <td>True</td>\n",
       "      <td>808</td>\n",
       "      <td>0</td>\n",
       "      <td>400</td>\n",
       "      <td>400</td>\n",
       "      <td>205</td>\n",
       "      <td>449</td>\n",
       "    </tr>\n",
       "    <tr>\n",
       "      <th>1</th>\n",
       "      <td>2017-06-13T18:55:22</td>\n",
       "      <td>0</td>\n",
       "      <td>1</td>\n",
       "      <td>350</td>\n",
       "      <td>32</td>\n",
       "      <td>True</td>\n",
       "      <td>635</td>\n",
       "      <td>0</td>\n",
       "      <td>400</td>\n",
       "      <td>400</td>\n",
       "      <td>682</td>\n",
       "      <td>237</td>\n",
       "    </tr>\n",
       "    <tr>\n",
       "      <th>2</th>\n",
       "      <td>2017-06-13T18:55:23</td>\n",
       "      <td>0</td>\n",
       "      <td>2</td>\n",
       "      <td>275</td>\n",
       "      <td>32</td>\n",
       "      <td>True</td>\n",
       "      <td>771</td>\n",
       "      <td>0</td>\n",
       "      <td>400</td>\n",
       "      <td>400</td>\n",
       "      <td>574</td>\n",
       "      <td>558</td>\n",
       "    </tr>\n",
       "    <tr>\n",
       "      <th>3</th>\n",
       "      <td>2017-06-13T18:55:24</td>\n",
       "      <td>0</td>\n",
       "      <td>3</td>\n",
       "      <td>125</td>\n",
       "      <td>16</td>\n",
       "      <td>True</td>\n",
       "      <td>757</td>\n",
       "      <td>0</td>\n",
       "      <td>400</td>\n",
       "      <td>400</td>\n",
       "      <td>503</td>\n",
       "      <td>369</td>\n",
       "    </tr>\n",
       "    <tr>\n",
       "      <th>4</th>\n",
       "      <td>2017-06-13T18:55:25</td>\n",
       "      <td>0</td>\n",
       "      <td>4</td>\n",
       "      <td>275</td>\n",
       "      <td>16</td>\n",
       "      <td>True</td>\n",
       "      <td>767</td>\n",
       "      <td>0</td>\n",
       "      <td>400</td>\n",
       "      <td>400</td>\n",
       "      <td>146</td>\n",
       "      <td>310</td>\n",
       "    </tr>\n",
       "  </tbody>\n",
       "</table>\n",
       "</div>"
      ],
      "text/plain": [
       "             timestamp  id  num_task  target_distance  target_size  \\\n",
       "0  2017-06-13T18:55:21   0         0              200           32   \n",
       "1  2017-06-13T18:55:22   0         1              350           32   \n",
       "2  2017-06-13T18:55:23   0         2              275           32   \n",
       "3  2017-06-13T18:55:24   0         3              125           16   \n",
       "4  2017-06-13T18:55:25   0         4              275           16   \n",
       "\n",
       "   bubble_pointer  reaction_time  number_of_errors  start_x  start_y  click_x  \\\n",
       "0            True            808                 0      400      400      205   \n",
       "1            True            635                 0      400      400      682   \n",
       "2            True            771                 0      400      400      574   \n",
       "3            True            757                 0      400      400      503   \n",
       "4            True            767                 0      400      400      146   \n",
       "\n",
       "   click_y  \n",
       "0      449  \n",
       "1      237  \n",
       "2      558  \n",
       "3      369  \n",
       "4      310  "
      ]
     },
     "execution_count": 12,
     "metadata": {},
     "output_type": "execute_result"
    }
   ],
   "source": [
    "df = pd.read_csv('pointing_experiment_results.csv')\n",
    "df.head()"
   ]
  },
  {
   "cell_type": "code",
   "execution_count": null,
   "metadata": {},
   "outputs": [],
   "source": []
  },
  {
   "cell_type": "code",
   "execution_count": null,
   "metadata": {},
   "outputs": [],
   "source": []
  },
  {
   "cell_type": "code",
   "execution_count": 13,
   "metadata": {},
   "outputs": [],
   "source": [
    "bubble_cursor = df.loc[df['bubble_pointer'] == True]\n",
    "standard_cursor = df.loc[df['bubble_pointer'] == False]"
   ]
  },
  {
   "cell_type": "code",
   "execution_count": null,
   "metadata": {
    "collapsed": true
   },
   "outputs": [],
   "source": []
  }
 ],
 "metadata": {
  "kernelspec": {
   "display_name": "Python 3",
   "language": "python",
   "name": "python3"
  },
  "language_info": {
   "codemirror_mode": {
    "name": "ipython",
    "version": 3
   },
   "file_extension": ".py",
   "mimetype": "text/x-python",
   "name": "python",
   "nbconvert_exporter": "python",
   "pygments_lexer": "ipython3",
   "version": "3.5.2"
  }
 },
 "nbformat": 4,
 "nbformat_minor": 2
}
