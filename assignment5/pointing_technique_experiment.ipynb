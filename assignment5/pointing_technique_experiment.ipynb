{
 "cells": [
  {
   "cell_type": "markdown",
   "metadata": {},
   "source": [
    "# Pointing Technique Experiment"
   ]
  },
  {
   "cell_type": "markdown",
   "metadata": {},
   "source": [
    "This experiment was conducted to evaluate a pointing technique which should help the user select objects. Therefore, participants had to perform two sets of tasks in which they were presented a number of targets where one of them was highlighted in a green color.The participant was asked to try to click as fast as possible on the highlighted target. \n",
    "One time they had to perform the tasks with a standard mouse pointer and the other time with a new pointing technique, where the closest target to the cursor was highlighted in a red color and could be directly selected by the participant - without moving the cursor to the position of the highlighted circle. This was visually presented to the user in form of a blue bubble.\n",
    "Participant 1 and 3 had to perform the new pointing technique first and afterwards the standard pointing technique. Participants 2 and 4 performed the tasks the other way round, so they started with the standard technique and than the new technique.\n",
    "The experiment was set up with the follwing variables and conditions:\n",
    "\n",
    "Independent variables: \n",
    "type of pointing technique (new pointing technique or standard), \n",
    "distances between starting position and position of targets (125, 200, 275, 350), \n",
    "sizes of targets (16, 32),\n",
    "participants\n",
    "    \n",
    "Dependent variables: \n",
    "reaction time in milliseconds, error rate\n",
    "    \n",
    "Control variables: \n",
    "starting position (always the middle of the window), \n",
    "number of distraction circles (50)\n",
    "\n",
    "Each set of tasks consisted of 16 tasks with varying values of the independent variables distances and sizes. The variations were generated in a pseudo-randomized order, so that each distance condition was generated 4 times and each size of the target was shown 8 times. Furthermore, it was ensured that each distance was shown exactly 2 times with the smaller targets and 2 times with the larger targets.\n",
    "The following hypothesis was definded:\n",
    "The reaction time of the bubble pointing technique is smaller than the reaction time of the standard poiting technqiue.\n",
    "The error rate of the bubble pointing technique is smaller than the error rate of the standard pointing technique.\n",
    "4 participants took part in the experiment. They were all between the ages of 23 and 25 and are studying at the University of Regensburg."
   ]
  },
  {
   "cell_type": "markdown",
   "metadata": {},
   "source": [
    "# TODO\n",
    "\n",
    "\n",
    "bubble_cursor vs. non_bubble\n",
    "\n",
    "size16 vs size32\n",
    "\n",
    "distances\n",
    "\n",
    "error_rate\n",
    "\n",
    "\n",
    "\n",
    "grafiken:\n",
    "- timeontask (bubble vs non-bubble)\n",
    "- error (bubble16 vs bubble32 vs non-bubble16 vs non-bubble32)\n",
    "- timeontask (distance1 vs distance2 vs distance3 vs distance4) (fitts law) \n",
    "log(2D / W) D= distanz; W=Größe vs 8conditions\n",
    "vergleich bubble und nicht bubble\n",
    "\n",
    "achsen beschriften\n"
   ]
  },
  {
   "cell_type": "code",
   "execution_count": 1,
   "metadata": {
    "collapsed": true
   },
   "outputs": [],
   "source": [
    "import numpy as np\n",
    "import pandas as pd\n",
    "\n",
    "%matplotlib inline\n",
    "from pylab import *\n",
    "rcParams['figure.figsize'] = (16,9)"
   ]
  },
  {
   "cell_type": "code",
   "execution_count": null,
   "metadata": {
    "collapsed": true
   },
   "outputs": [],
   "source": []
  },
  {
   "cell_type": "markdown",
   "metadata": {
    "collapsed": true
   },
   "source": [
    "code which imports the raw data from a CSV file and extracts the relevant data for further processing\n",
    "(the CSV file should be in the same directory)"
   ]
  },
  {
   "cell_type": "code",
   "execution_count": 2,
   "metadata": {
    "collapsed": true
   },
   "outputs": [],
   "source": [
    "data = []\n",
    "for i in range(1,4):\n",
    "    data.append(np.genfromtxt('pointing_experiment_result_{}.csv'.format(i), dtype=None, delimiter=',', names=True))\n",
    "    \n",
    "data1, data2, data3 = data"
   ]
  },
  {
   "cell_type": "code",
   "execution_count": null,
   "metadata": {
    "collapsed": true
   },
   "outputs": [],
   "source": []
  },
  {
   "cell_type": "code",
   "execution_count": null,
   "metadata": {
    "collapsed": true
   },
   "outputs": [],
   "source": []
  },
  {
   "cell_type": "code",
   "execution_count": 3,
   "metadata": {},
   "outputs": [
    {
     "data": {
      "text/html": [
       "<div>\n",
       "<style>\n",
       "    .dataframe thead tr:only-child th {\n",
       "        text-align: right;\n",
       "    }\n",
       "\n",
       "    .dataframe thead th {\n",
       "        text-align: left;\n",
       "    }\n",
       "\n",
       "    .dataframe tbody tr th {\n",
       "        vertical-align: top;\n",
       "    }\n",
       "</style>\n",
       "<table border=\"1\" class=\"dataframe\">\n",
       "  <thead>\n",
       "    <tr style=\"text-align: right;\">\n",
       "      <th></th>\n",
       "      <th>timestamp</th>\n",
       "      <th>id</th>\n",
       "      <th>num_task</th>\n",
       "      <th>target_distance</th>\n",
       "      <th>target_size</th>\n",
       "      <th>bubble_pointer</th>\n",
       "      <th>reaction_time</th>\n",
       "      <th>number_of_errors</th>\n",
       "      <th>start_x</th>\n",
       "      <th>start_y</th>\n",
       "      <th>click_x</th>\n",
       "      <th>click_y</th>\n",
       "    </tr>\n",
       "  </thead>\n",
       "  <tbody>\n",
       "    <tr>\n",
       "      <th>0</th>\n",
       "      <td>2017-06-13T18:55:21</td>\n",
       "      <td>0</td>\n",
       "      <td>0</td>\n",
       "      <td>200</td>\n",
       "      <td>32</td>\n",
       "      <td>True</td>\n",
       "      <td>808</td>\n",
       "      <td>0</td>\n",
       "      <td>400</td>\n",
       "      <td>400</td>\n",
       "      <td>205</td>\n",
       "      <td>449</td>\n",
       "    </tr>\n",
       "    <tr>\n",
       "      <th>1</th>\n",
       "      <td>2017-06-13T18:55:22</td>\n",
       "      <td>0</td>\n",
       "      <td>1</td>\n",
       "      <td>350</td>\n",
       "      <td>32</td>\n",
       "      <td>True</td>\n",
       "      <td>635</td>\n",
       "      <td>0</td>\n",
       "      <td>400</td>\n",
       "      <td>400</td>\n",
       "      <td>682</td>\n",
       "      <td>237</td>\n",
       "    </tr>\n",
       "    <tr>\n",
       "      <th>2</th>\n",
       "      <td>2017-06-13T18:55:23</td>\n",
       "      <td>0</td>\n",
       "      <td>2</td>\n",
       "      <td>275</td>\n",
       "      <td>32</td>\n",
       "      <td>True</td>\n",
       "      <td>771</td>\n",
       "      <td>0</td>\n",
       "      <td>400</td>\n",
       "      <td>400</td>\n",
       "      <td>574</td>\n",
       "      <td>558</td>\n",
       "    </tr>\n",
       "    <tr>\n",
       "      <th>3</th>\n",
       "      <td>2017-06-13T18:55:24</td>\n",
       "      <td>0</td>\n",
       "      <td>3</td>\n",
       "      <td>125</td>\n",
       "      <td>16</td>\n",
       "      <td>True</td>\n",
       "      <td>757</td>\n",
       "      <td>0</td>\n",
       "      <td>400</td>\n",
       "      <td>400</td>\n",
       "      <td>503</td>\n",
       "      <td>369</td>\n",
       "    </tr>\n",
       "    <tr>\n",
       "      <th>4</th>\n",
       "      <td>2017-06-13T18:55:25</td>\n",
       "      <td>0</td>\n",
       "      <td>4</td>\n",
       "      <td>275</td>\n",
       "      <td>16</td>\n",
       "      <td>True</td>\n",
       "      <td>767</td>\n",
       "      <td>0</td>\n",
       "      <td>400</td>\n",
       "      <td>400</td>\n",
       "      <td>146</td>\n",
       "      <td>310</td>\n",
       "    </tr>\n",
       "  </tbody>\n",
       "</table>\n",
       "</div>"
      ],
      "text/plain": [
       "             timestamp  id  num_task  target_distance  target_size  \\\n",
       "0  2017-06-13T18:55:21   0         0              200           32   \n",
       "1  2017-06-13T18:55:22   0         1              350           32   \n",
       "2  2017-06-13T18:55:23   0         2              275           32   \n",
       "3  2017-06-13T18:55:24   0         3              125           16   \n",
       "4  2017-06-13T18:55:25   0         4              275           16   \n",
       "\n",
       "   bubble_pointer  reaction_time  number_of_errors  start_x  start_y  click_x  \\\n",
       "0            True            808                 0      400      400      205   \n",
       "1            True            635                 0      400      400      682   \n",
       "2            True            771                 0      400      400      574   \n",
       "3            True            757                 0      400      400      503   \n",
       "4            True            767                 0      400      400      146   \n",
       "\n",
       "   click_y  \n",
       "0      449  \n",
       "1      237  \n",
       "2      558  \n",
       "3      369  \n",
       "4      310  "
      ]
     },
     "execution_count": 3,
     "metadata": {},
     "output_type": "execute_result"
    }
   ],
   "source": [
    "df = pd.read_csv('pointing_experiment_results.csv')\n",
    "df.head()"
   ]
  },
  {
   "cell_type": "code",
   "execution_count": 4,
   "metadata": {
    "scrolled": true
   },
   "outputs": [
    {
     "data": {
      "text/html": [
       "<div>\n",
       "<style>\n",
       "    .dataframe thead tr:only-child th {\n",
       "        text-align: right;\n",
       "    }\n",
       "\n",
       "    .dataframe thead th {\n",
       "        text-align: left;\n",
       "    }\n",
       "\n",
       "    .dataframe tbody tr th {\n",
       "        vertical-align: top;\n",
       "    }\n",
       "</style>\n",
       "<table border=\"1\" class=\"dataframe\">\n",
       "  <thead>\n",
       "    <tr style=\"text-align: right;\">\n",
       "      <th></th>\n",
       "      <th>timestamp</th>\n",
       "      <th>id</th>\n",
       "      <th>num_task</th>\n",
       "      <th>target_distance</th>\n",
       "      <th>target_size</th>\n",
       "      <th>bubble_pointer</th>\n",
       "      <th>reaction_time</th>\n",
       "      <th>number_of_errors</th>\n",
       "      <th>start_x</th>\n",
       "      <th>start_y</th>\n",
       "      <th>click_x</th>\n",
       "      <th>click_y</th>\n",
       "    </tr>\n",
       "  </thead>\n",
       "  <tbody>\n",
       "    <tr>\n",
       "      <th>32</th>\n",
       "      <td>2017-06-13T18:58:26</td>\n",
       "      <td>1</td>\n",
       "      <td>0</td>\n",
       "      <td>350</td>\n",
       "      <td>32</td>\n",
       "      <td>False</td>\n",
       "      <td>809</td>\n",
       "      <td>0</td>\n",
       "      <td>400</td>\n",
       "      <td>400</td>\n",
       "      <td>74</td>\n",
       "      <td>521</td>\n",
       "    </tr>\n",
       "    <tr>\n",
       "      <th>33</th>\n",
       "      <td>2017-06-13T18:58:27</td>\n",
       "      <td>1</td>\n",
       "      <td>1</td>\n",
       "      <td>125</td>\n",
       "      <td>16</td>\n",
       "      <td>False</td>\n",
       "      <td>1107</td>\n",
       "      <td>0</td>\n",
       "      <td>400</td>\n",
       "      <td>400</td>\n",
       "      <td>428</td>\n",
       "      <td>275</td>\n",
       "    </tr>\n",
       "    <tr>\n",
       "      <th>34</th>\n",
       "      <td>2017-06-13T18:58:28</td>\n",
       "      <td>1</td>\n",
       "      <td>2</td>\n",
       "      <td>275</td>\n",
       "      <td>16</td>\n",
       "      <td>False</td>\n",
       "      <td>973</td>\n",
       "      <td>0</td>\n",
       "      <td>400</td>\n",
       "      <td>400</td>\n",
       "      <td>454</td>\n",
       "      <td>128</td>\n",
       "    </tr>\n",
       "    <tr>\n",
       "      <th>35</th>\n",
       "      <td>2017-06-13T18:58:30</td>\n",
       "      <td>1</td>\n",
       "      <td>3</td>\n",
       "      <td>275</td>\n",
       "      <td>32</td>\n",
       "      <td>False</td>\n",
       "      <td>900</td>\n",
       "      <td>0</td>\n",
       "      <td>400</td>\n",
       "      <td>400</td>\n",
       "      <td>654</td>\n",
       "      <td>305</td>\n",
       "    </tr>\n",
       "    <tr>\n",
       "      <th>36</th>\n",
       "      <td>2017-06-13T18:58:31</td>\n",
       "      <td>1</td>\n",
       "      <td>4</td>\n",
       "      <td>125</td>\n",
       "      <td>32</td>\n",
       "      <td>False</td>\n",
       "      <td>939</td>\n",
       "      <td>0</td>\n",
       "      <td>400</td>\n",
       "      <td>400</td>\n",
       "      <td>505</td>\n",
       "      <td>431</td>\n",
       "    </tr>\n",
       "    <tr>\n",
       "      <th>37</th>\n",
       "      <td>2017-06-13T18:58:33</td>\n",
       "      <td>1</td>\n",
       "      <td>5</td>\n",
       "      <td>275</td>\n",
       "      <td>16</td>\n",
       "      <td>False</td>\n",
       "      <td>1172</td>\n",
       "      <td>0</td>\n",
       "      <td>400</td>\n",
       "      <td>400</td>\n",
       "      <td>674</td>\n",
       "      <td>383</td>\n",
       "    </tr>\n",
       "    <tr>\n",
       "      <th>38</th>\n",
       "      <td>2017-06-13T18:58:35</td>\n",
       "      <td>1</td>\n",
       "      <td>6</td>\n",
       "      <td>350</td>\n",
       "      <td>16</td>\n",
       "      <td>False</td>\n",
       "      <td>1441</td>\n",
       "      <td>0</td>\n",
       "      <td>400</td>\n",
       "      <td>400</td>\n",
       "      <td>319</td>\n",
       "      <td>748</td>\n",
       "    </tr>\n",
       "    <tr>\n",
       "      <th>39</th>\n",
       "      <td>2017-06-13T18:58:36</td>\n",
       "      <td>1</td>\n",
       "      <td>7</td>\n",
       "      <td>200</td>\n",
       "      <td>32</td>\n",
       "      <td>False</td>\n",
       "      <td>1029</td>\n",
       "      <td>0</td>\n",
       "      <td>400</td>\n",
       "      <td>400</td>\n",
       "      <td>230</td>\n",
       "      <td>301</td>\n",
       "    </tr>\n",
       "    <tr>\n",
       "      <th>40</th>\n",
       "      <td>2017-06-13T18:58:38</td>\n",
       "      <td>1</td>\n",
       "      <td>8</td>\n",
       "      <td>200</td>\n",
       "      <td>16</td>\n",
       "      <td>False</td>\n",
       "      <td>1287</td>\n",
       "      <td>0</td>\n",
       "      <td>400</td>\n",
       "      <td>400</td>\n",
       "      <td>196</td>\n",
       "      <td>366</td>\n",
       "    </tr>\n",
       "    <tr>\n",
       "      <th>41</th>\n",
       "      <td>2017-06-13T18:58:39</td>\n",
       "      <td>1</td>\n",
       "      <td>9</td>\n",
       "      <td>350</td>\n",
       "      <td>32</td>\n",
       "      <td>False</td>\n",
       "      <td>1082</td>\n",
       "      <td>0</td>\n",
       "      <td>400</td>\n",
       "      <td>400</td>\n",
       "      <td>508</td>\n",
       "      <td>70</td>\n",
       "    </tr>\n",
       "    <tr>\n",
       "      <th>42</th>\n",
       "      <td>2017-06-13T18:58:43</td>\n",
       "      <td>1</td>\n",
       "      <td>10</td>\n",
       "      <td>200</td>\n",
       "      <td>16</td>\n",
       "      <td>False</td>\n",
       "      <td>3235</td>\n",
       "      <td>3</td>\n",
       "      <td>400</td>\n",
       "      <td>400</td>\n",
       "      <td>285</td>\n",
       "      <td>564</td>\n",
       "    </tr>\n",
       "    <tr>\n",
       "      <th>43</th>\n",
       "      <td>2017-06-13T18:58:44</td>\n",
       "      <td>1</td>\n",
       "      <td>11</td>\n",
       "      <td>200</td>\n",
       "      <td>32</td>\n",
       "      <td>False</td>\n",
       "      <td>1019</td>\n",
       "      <td>0</td>\n",
       "      <td>400</td>\n",
       "      <td>400</td>\n",
       "      <td>204</td>\n",
       "      <td>432</td>\n",
       "    </tr>\n",
       "    <tr>\n",
       "      <th>44</th>\n",
       "      <td>2017-06-13T18:58:45</td>\n",
       "      <td>1</td>\n",
       "      <td>12</td>\n",
       "      <td>125</td>\n",
       "      <td>32</td>\n",
       "      <td>False</td>\n",
       "      <td>858</td>\n",
       "      <td>0</td>\n",
       "      <td>400</td>\n",
       "      <td>400</td>\n",
       "      <td>401</td>\n",
       "      <td>281</td>\n",
       "    </tr>\n",
       "    <tr>\n",
       "      <th>45</th>\n",
       "      <td>2017-06-13T18:58:46</td>\n",
       "      <td>1</td>\n",
       "      <td>13</td>\n",
       "      <td>275</td>\n",
       "      <td>32</td>\n",
       "      <td>False</td>\n",
       "      <td>994</td>\n",
       "      <td>0</td>\n",
       "      <td>400</td>\n",
       "      <td>400</td>\n",
       "      <td>315</td>\n",
       "      <td>659</td>\n",
       "    </tr>\n",
       "    <tr>\n",
       "      <th>46</th>\n",
       "      <td>2017-06-13T18:58:49</td>\n",
       "      <td>1</td>\n",
       "      <td>14</td>\n",
       "      <td>350</td>\n",
       "      <td>16</td>\n",
       "      <td>False</td>\n",
       "      <td>1993</td>\n",
       "      <td>1</td>\n",
       "      <td>400</td>\n",
       "      <td>400</td>\n",
       "      <td>290</td>\n",
       "      <td>69</td>\n",
       "    </tr>\n",
       "    <tr>\n",
       "      <th>47</th>\n",
       "      <td>2017-06-13T18:58:50</td>\n",
       "      <td>1</td>\n",
       "      <td>15</td>\n",
       "      <td>125</td>\n",
       "      <td>16</td>\n",
       "      <td>False</td>\n",
       "      <td>1237</td>\n",
       "      <td>0</td>\n",
       "      <td>400</td>\n",
       "      <td>400</td>\n",
       "      <td>342</td>\n",
       "      <td>509</td>\n",
       "    </tr>\n",
       "    <tr>\n",
       "      <th>112</th>\n",
       "      <td>2017-06-14T15:26:20</td>\n",
       "      <td>1</td>\n",
       "      <td>0</td>\n",
       "      <td>350</td>\n",
       "      <td>32</td>\n",
       "      <td>True</td>\n",
       "      <td>796</td>\n",
       "      <td>0</td>\n",
       "      <td>400</td>\n",
       "      <td>400</td>\n",
       "      <td>672</td>\n",
       "      <td>689</td>\n",
       "    </tr>\n",
       "    <tr>\n",
       "      <th>113</th>\n",
       "      <td>2017-06-14T15:26:21</td>\n",
       "      <td>1</td>\n",
       "      <td>1</td>\n",
       "      <td>125</td>\n",
       "      <td>16</td>\n",
       "      <td>True</td>\n",
       "      <td>685</td>\n",
       "      <td>0</td>\n",
       "      <td>400</td>\n",
       "      <td>400</td>\n",
       "      <td>600</td>\n",
       "      <td>435</td>\n",
       "    </tr>\n",
       "    <tr>\n",
       "      <th>114</th>\n",
       "      <td>2017-06-14T15:26:22</td>\n",
       "      <td>1</td>\n",
       "      <td>2</td>\n",
       "      <td>275</td>\n",
       "      <td>16</td>\n",
       "      <td>True</td>\n",
       "      <td>803</td>\n",
       "      <td>0</td>\n",
       "      <td>400</td>\n",
       "      <td>400</td>\n",
       "      <td>678</td>\n",
       "      <td>518</td>\n",
       "    </tr>\n",
       "    <tr>\n",
       "      <th>115</th>\n",
       "      <td>2017-06-14T15:26:23</td>\n",
       "      <td>1</td>\n",
       "      <td>3</td>\n",
       "      <td>275</td>\n",
       "      <td>32</td>\n",
       "      <td>True</td>\n",
       "      <td>629</td>\n",
       "      <td>0</td>\n",
       "      <td>400</td>\n",
       "      <td>400</td>\n",
       "      <td>125</td>\n",
       "      <td>285</td>\n",
       "    </tr>\n",
       "    <tr>\n",
       "      <th>116</th>\n",
       "      <td>2017-06-14T15:26:24</td>\n",
       "      <td>1</td>\n",
       "      <td>4</td>\n",
       "      <td>125</td>\n",
       "      <td>32</td>\n",
       "      <td>True</td>\n",
       "      <td>727</td>\n",
       "      <td>0</td>\n",
       "      <td>400</td>\n",
       "      <td>400</td>\n",
       "      <td>367</td>\n",
       "      <td>554</td>\n",
       "    </tr>\n",
       "    <tr>\n",
       "      <th>117</th>\n",
       "      <td>2017-06-14T15:26:25</td>\n",
       "      <td>1</td>\n",
       "      <td>5</td>\n",
       "      <td>275</td>\n",
       "      <td>16</td>\n",
       "      <td>True</td>\n",
       "      <td>895</td>\n",
       "      <td>0</td>\n",
       "      <td>400</td>\n",
       "      <td>400</td>\n",
       "      <td>100</td>\n",
       "      <td>381</td>\n",
       "    </tr>\n",
       "    <tr>\n",
       "      <th>118</th>\n",
       "      <td>2017-06-14T15:26:27</td>\n",
       "      <td>1</td>\n",
       "      <td>6</td>\n",
       "      <td>350</td>\n",
       "      <td>16</td>\n",
       "      <td>True</td>\n",
       "      <td>857</td>\n",
       "      <td>0</td>\n",
       "      <td>400</td>\n",
       "      <td>400</td>\n",
       "      <td>30</td>\n",
       "      <td>488</td>\n",
       "    </tr>\n",
       "    <tr>\n",
       "      <th>119</th>\n",
       "      <td>2017-06-14T15:26:28</td>\n",
       "      <td>1</td>\n",
       "      <td>7</td>\n",
       "      <td>200</td>\n",
       "      <td>32</td>\n",
       "      <td>True</td>\n",
       "      <td>805</td>\n",
       "      <td>0</td>\n",
       "      <td>400</td>\n",
       "      <td>400</td>\n",
       "      <td>608</td>\n",
       "      <td>353</td>\n",
       "    </tr>\n",
       "    <tr>\n",
       "      <th>120</th>\n",
       "      <td>2017-06-14T15:26:29</td>\n",
       "      <td>1</td>\n",
       "      <td>8</td>\n",
       "      <td>200</td>\n",
       "      <td>16</td>\n",
       "      <td>True</td>\n",
       "      <td>878</td>\n",
       "      <td>0</td>\n",
       "      <td>400</td>\n",
       "      <td>400</td>\n",
       "      <td>561</td>\n",
       "      <td>507</td>\n",
       "    </tr>\n",
       "    <tr>\n",
       "      <th>121</th>\n",
       "      <td>2017-06-14T15:26:30</td>\n",
       "      <td>1</td>\n",
       "      <td>9</td>\n",
       "      <td>350</td>\n",
       "      <td>32</td>\n",
       "      <td>True</td>\n",
       "      <td>719</td>\n",
       "      <td>0</td>\n",
       "      <td>400</td>\n",
       "      <td>400</td>\n",
       "      <td>301</td>\n",
       "      <td>750</td>\n",
       "    </tr>\n",
       "    <tr>\n",
       "      <th>122</th>\n",
       "      <td>2017-06-14T15:26:31</td>\n",
       "      <td>1</td>\n",
       "      <td>10</td>\n",
       "      <td>200</td>\n",
       "      <td>16</td>\n",
       "      <td>True</td>\n",
       "      <td>783</td>\n",
       "      <td>0</td>\n",
       "      <td>400</td>\n",
       "      <td>400</td>\n",
       "      <td>514</td>\n",
       "      <td>231</td>\n",
       "    </tr>\n",
       "    <tr>\n",
       "      <th>123</th>\n",
       "      <td>2017-06-14T15:26:32</td>\n",
       "      <td>1</td>\n",
       "      <td>11</td>\n",
       "      <td>200</td>\n",
       "      <td>32</td>\n",
       "      <td>True</td>\n",
       "      <td>651</td>\n",
       "      <td>0</td>\n",
       "      <td>400</td>\n",
       "      <td>400</td>\n",
       "      <td>389</td>\n",
       "      <td>251</td>\n",
       "    </tr>\n",
       "    <tr>\n",
       "      <th>124</th>\n",
       "      <td>2017-06-14T15:26:33</td>\n",
       "      <td>1</td>\n",
       "      <td>12</td>\n",
       "      <td>125</td>\n",
       "      <td>32</td>\n",
       "      <td>True</td>\n",
       "      <td>619</td>\n",
       "      <td>0</td>\n",
       "      <td>400</td>\n",
       "      <td>400</td>\n",
       "      <td>461</td>\n",
       "      <td>554</td>\n",
       "    </tr>\n",
       "    <tr>\n",
       "      <th>125</th>\n",
       "      <td>2017-06-14T15:26:35</td>\n",
       "      <td>1</td>\n",
       "      <td>13</td>\n",
       "      <td>275</td>\n",
       "      <td>32</td>\n",
       "      <td>True</td>\n",
       "      <td>806</td>\n",
       "      <td>0</td>\n",
       "      <td>400</td>\n",
       "      <td>400</td>\n",
       "      <td>222</td>\n",
       "      <td>672</td>\n",
       "    </tr>\n",
       "    <tr>\n",
       "      <th>126</th>\n",
       "      <td>2017-06-14T15:26:36</td>\n",
       "      <td>1</td>\n",
       "      <td>14</td>\n",
       "      <td>350</td>\n",
       "      <td>16</td>\n",
       "      <td>True</td>\n",
       "      <td>824</td>\n",
       "      <td>0</td>\n",
       "      <td>400</td>\n",
       "      <td>400</td>\n",
       "      <td>424</td>\n",
       "      <td>774</td>\n",
       "    </tr>\n",
       "    <tr>\n",
       "      <th>127</th>\n",
       "      <td>2017-06-14T15:26:37</td>\n",
       "      <td>1</td>\n",
       "      <td>15</td>\n",
       "      <td>125</td>\n",
       "      <td>16</td>\n",
       "      <td>True</td>\n",
       "      <td>965</td>\n",
       "      <td>0</td>\n",
       "      <td>400</td>\n",
       "      <td>400</td>\n",
       "      <td>447</td>\n",
       "      <td>524</td>\n",
       "    </tr>\n",
       "  </tbody>\n",
       "</table>\n",
       "</div>"
      ],
      "text/plain": [
       "               timestamp  id  num_task  target_distance  target_size  \\\n",
       "32   2017-06-13T18:58:26   1         0              350           32   \n",
       "33   2017-06-13T18:58:27   1         1              125           16   \n",
       "34   2017-06-13T18:58:28   1         2              275           16   \n",
       "35   2017-06-13T18:58:30   1         3              275           32   \n",
       "36   2017-06-13T18:58:31   1         4              125           32   \n",
       "37   2017-06-13T18:58:33   1         5              275           16   \n",
       "38   2017-06-13T18:58:35   1         6              350           16   \n",
       "39   2017-06-13T18:58:36   1         7              200           32   \n",
       "40   2017-06-13T18:58:38   1         8              200           16   \n",
       "41   2017-06-13T18:58:39   1         9              350           32   \n",
       "42   2017-06-13T18:58:43   1        10              200           16   \n",
       "43   2017-06-13T18:58:44   1        11              200           32   \n",
       "44   2017-06-13T18:58:45   1        12              125           32   \n",
       "45   2017-06-13T18:58:46   1        13              275           32   \n",
       "46   2017-06-13T18:58:49   1        14              350           16   \n",
       "47   2017-06-13T18:58:50   1        15              125           16   \n",
       "112  2017-06-14T15:26:20   1         0              350           32   \n",
       "113  2017-06-14T15:26:21   1         1              125           16   \n",
       "114  2017-06-14T15:26:22   1         2              275           16   \n",
       "115  2017-06-14T15:26:23   1         3              275           32   \n",
       "116  2017-06-14T15:26:24   1         4              125           32   \n",
       "117  2017-06-14T15:26:25   1         5              275           16   \n",
       "118  2017-06-14T15:26:27   1         6              350           16   \n",
       "119  2017-06-14T15:26:28   1         7              200           32   \n",
       "120  2017-06-14T15:26:29   1         8              200           16   \n",
       "121  2017-06-14T15:26:30   1         9              350           32   \n",
       "122  2017-06-14T15:26:31   1        10              200           16   \n",
       "123  2017-06-14T15:26:32   1        11              200           32   \n",
       "124  2017-06-14T15:26:33   1        12              125           32   \n",
       "125  2017-06-14T15:26:35   1        13              275           32   \n",
       "126  2017-06-14T15:26:36   1        14              350           16   \n",
       "127  2017-06-14T15:26:37   1        15              125           16   \n",
       "\n",
       "     bubble_pointer  reaction_time  number_of_errors  start_x  start_y  \\\n",
       "32            False            809                 0      400      400   \n",
       "33            False           1107                 0      400      400   \n",
       "34            False            973                 0      400      400   \n",
       "35            False            900                 0      400      400   \n",
       "36            False            939                 0      400      400   \n",
       "37            False           1172                 0      400      400   \n",
       "38            False           1441                 0      400      400   \n",
       "39            False           1029                 0      400      400   \n",
       "40            False           1287                 0      400      400   \n",
       "41            False           1082                 0      400      400   \n",
       "42            False           3235                 3      400      400   \n",
       "43            False           1019                 0      400      400   \n",
       "44            False            858                 0      400      400   \n",
       "45            False            994                 0      400      400   \n",
       "46            False           1993                 1      400      400   \n",
       "47            False           1237                 0      400      400   \n",
       "112            True            796                 0      400      400   \n",
       "113            True            685                 0      400      400   \n",
       "114            True            803                 0      400      400   \n",
       "115            True            629                 0      400      400   \n",
       "116            True            727                 0      400      400   \n",
       "117            True            895                 0      400      400   \n",
       "118            True            857                 0      400      400   \n",
       "119            True            805                 0      400      400   \n",
       "120            True            878                 0      400      400   \n",
       "121            True            719                 0      400      400   \n",
       "122            True            783                 0      400      400   \n",
       "123            True            651                 0      400      400   \n",
       "124            True            619                 0      400      400   \n",
       "125            True            806                 0      400      400   \n",
       "126            True            824                 0      400      400   \n",
       "127            True            965                 0      400      400   \n",
       "\n",
       "     click_x  click_y  \n",
       "32        74      521  \n",
       "33       428      275  \n",
       "34       454      128  \n",
       "35       654      305  \n",
       "36       505      431  \n",
       "37       674      383  \n",
       "38       319      748  \n",
       "39       230      301  \n",
       "40       196      366  \n",
       "41       508       70  \n",
       "42       285      564  \n",
       "43       204      432  \n",
       "44       401      281  \n",
       "45       315      659  \n",
       "46       290       69  \n",
       "47       342      509  \n",
       "112      672      689  \n",
       "113      600      435  \n",
       "114      678      518  \n",
       "115      125      285  \n",
       "116      367      554  \n",
       "117      100      381  \n",
       "118       30      488  \n",
       "119      608      353  \n",
       "120      561      507  \n",
       "121      301      750  \n",
       "122      514      231  \n",
       "123      389      251  \n",
       "124      461      554  \n",
       "125      222      672  \n",
       "126      424      774  \n",
       "127      447      524  "
      ]
     },
     "execution_count": 4,
     "metadata": {},
     "output_type": "execute_result"
    }
   ],
   "source": [
    "df.loc[df['id'] == 1]"
   ]
  },
  {
   "cell_type": "code",
   "execution_count": null,
   "metadata": {
    "collapsed": true
   },
   "outputs": [],
   "source": []
  },
  {
   "cell_type": "code",
   "execution_count": 5,
   "metadata": {
    "collapsed": true
   },
   "outputs": [],
   "source": [
    "bubble_cursor = df.loc[df['bubble_pointer'] == True]\n",
    "standard_cursor = df.loc[df['bubble_pointer'] == False]\n",
    "small_target = df.loc[df['target_size'] == 16]\n",
    "large_target = df.loc[df['target_size'] == 32]"
   ]
  },
  {
   "cell_type": "code",
   "execution_count": null,
   "metadata": {
    "collapsed": true
   },
   "outputs": [],
   "source": []
  },
  {
   "cell_type": "markdown",
   "metadata": {},
   "source": [
    "## Analyzing standard cursor versus bubble cursor"
   ]
  },
  {
   "cell_type": "markdown",
   "metadata": {},
   "source": [
    "### Comparision of time on tasks while using the standard cursor versus the bubble cursor"
   ]
  },
  {
   "cell_type": "markdown",
   "metadata": {},
   "source": [
    "Mean and standard deviation with bubble cursor:"
   ]
  },
  {
   "cell_type": "code",
   "execution_count": 6,
   "metadata": {
    "scrolled": true
   },
   "outputs": [
    {
     "data": {
      "text/plain": [
       "(1062.34375, 342.96843963539487)"
      ]
     },
     "execution_count": 6,
     "metadata": {},
     "output_type": "execute_result"
    }
   ],
   "source": [
    "mean(bubble_cursor['reaction_time']), std(bubble_cursor['reaction_time'])"
   ]
  },
  {
   "cell_type": "markdown",
   "metadata": {},
   "source": [
    "Mean and standard deviation with standard cursor:"
   ]
  },
  {
   "cell_type": "code",
   "execution_count": 7,
   "metadata": {},
   "outputs": [
    {
     "data": {
      "text/plain": [
       "(1662.140625, 688.76655758653771)"
      ]
     },
     "execution_count": 7,
     "metadata": {},
     "output_type": "execute_result"
    }
   ],
   "source": [
    "mean(standard_cursor['reaction_time']), std(standard_cursor['reaction_time'])"
   ]
  },
  {
   "cell_type": "code",
   "execution_count": 8,
   "metadata": {},
   "outputs": [
    {
     "data": {
      "image/png": "[encoded data removed]",
      "text/plain": [
       "<matplotlib.figure.Figure at 0x7f13cd4c9f28>"
      ]
     },
     "metadata": {},
     "output_type": "display_data"
    }
   ],
   "source": [
    "boxplot([bubble_cursor['reaction_time'], standard_cursor['reaction_time']]);\n",
    "xlabel('Cursor')\n",
    "ylabel('Reaction Time in Milliseconds')\n",
    "axes().set_xticklabels(['Bubble', 'Standard']);"
   ]
  },
  {
   "cell_type": "code",
   "execution_count": 9,
   "metadata": {},
   "outputs": [
    {
     "data": {
      "image/png": "[encoded data removed]",
      "text/plain": [
       "<matplotlib.figure.Figure at 0x7f13cd472a90>"
      ]
     },
     "metadata": {},
     "output_type": "display_data"
    }
   ],
   "source": [
    "x = [1, 2]\n",
    "y = [list(bubble_cursor['reaction_time']), list(standard_cursor['reaction_time'])]\n",
    "\n",
    "\n",
    "for xe, ye in zip(x, y):\n",
    "    scatter([xe] * len(ye), ye);\n",
    "    \n",
    "xlabel('Cursor')\n",
    "ylabel('Reaction Time in Milliseconds')\n",
    "xticks(x)\n",
    "axes().set_xticklabels(['Bubble', 'Standard']);"
   ]
  },
  {
   "cell_type": "markdown",
   "metadata": {},
   "source": [
    "### Comparision of error rate while using the standard cursor versus the bubble cursor"
   ]
  },
  {
   "cell_type": "code",
   "execution_count": 11,
   "metadata": {
    "collapsed": true
   },
   "outputs": [],
   "source": [
    "bubble16 = bubble_cursor.loc[bubble_cursor['target_size'] == 16]\n",
    "bubble32 = bubble_cursor.loc[bubble_cursor['target_size'] == 32]\n",
    "standard16 = standard_cursor.loc[standard_cursor['target_size'] == 16]\n",
    "standard32 = standard_cursor.loc[standard_cursor['target_size'] == 32]"
   ]
  },
  {
   "cell_type": "code",
   "execution_count": null,
   "metadata": {},
   "outputs": [],
   "source": []
  },
  {
   "cell_type": "code",
   "execution_count": 75,
   "metadata": {},
   "outputs": [
    {
     "data": {
      "text/plain": [
       "<matplotlib.text.Text at 0x7f13c9b7b8d0>"
      ]
     },
     "execution_count": 75,
     "metadata": {},
     "output_type": "execute_result"
    },
    {
     "data": {
      "image/png": "[encoded data removed]",
      "text/plain": [
       "<matplotlib.figure.Figure at 0x7f13c9b7e160>"
      ]
     },
     "metadata": {},
     "output_type": "display_data"
    }
   ],
   "source": [
    "x = np.arange(len(bubble16))\n",
    "scatter(x, bubble16['number_of_errors'], color='r', label=\"Bubble 16\")\n",
    "\n",
    "x = np.arange(len(bubble16), len(bubble32)*2)\n",
    "scatter(x, bubble32['number_of_errors'], color='g', label=\"Bubble 32\")\n",
    "\n",
    "x = np.arange(len(standard16)*2, len(standard16)*3)\n",
    "scatter(x, standard16['number_of_errors'], color='b', label=\"Standard 16\")\n",
    "\n",
    "x = np.arange(len(standard16)*3, len(standard16)*4)\n",
    "scatter(x, standard32['number_of_errors'], color='y', label=\"Standard 32\")\n",
    "\n",
    "legend();\n",
    "xlabel(\"# of Task\")\n",
    "ylabel(\"# of errors\")"
   ]
  },
  {
   "cell_type": "code",
   "execution_count": 65,
   "metadata": {},
   "outputs": [
    {
     "data": {
      "image/png": "[encoded data removed]",
      "text/plain": [
       "<matplotlib.figure.Figure at 0x7f13ca4d2780>"
      ]
     },
     "metadata": {},
     "output_type": "display_data"
    }
   ],
   "source": [
    "error_rate = [sum(bubble16['number_of_errors']),\n",
    "              sum(bubble32['number_of_errors']),\n",
    "              sum(standard16['number_of_errors']),\n",
    "              sum(standard32['number_of_errors'])]\n",
    "\n",
    "ind = np.arange(4)\n",
    "width = 0.5\n",
    "bar(ind+width/2, error_rate, width);\n",
    "xlabel('Condition')\n",
    "ylabel('Number of Errors ({} tries)'.format(len(bubble16)))\n",
    "xticks(ind+width);\n",
    "axes().set_xticklabels(['Bubble16', 'Bubble32', 'Standard16', 'Standard32']);"
   ]
  },
  {
   "cell_type": "code",
   "execution_count": null,
   "metadata": {
    "collapsed": true
   },
   "outputs": [],
   "source": []
  },
  {
   "cell_type": "code",
   "execution_count": 54,
   "metadata": {},
   "outputs": [
    {
     "data": {
      "text/plain": [
       "<matplotlib.legend.Legend at 0x7f13ca710c88>"
      ]
     },
     "execution_count": 54,
     "metadata": {},
     "output_type": "execute_result"
    },
    {
     "data": {
      "image/png": "[encoded data removed]",
      "text/plain": [
       "<matplotlib.figure.Figure at 0x7f13cc7256d8>"
      ]
     },
     "metadata": {},
     "output_type": "display_data"
    }
   ],
   "source": [
    "error_rate = [sum(bubble16['number_of_errors']),\n",
    "              sum(bubble32['number_of_errors']),\n",
    "              sum(standard16['number_of_errors']),\n",
    "              sum(standard32['number_of_errors'])]\n",
    "\n",
    "ind = np.arange(4)\n",
    "width = 0.15\n",
    "colors = ['r', 'g', 'b', 'y']\n",
    "rects = []\n",
    "counter = 0\n",
    "xtlist = []\n",
    "\n",
    "for condition in [bubble16, bubble32, standard16, standard32]:\n",
    "    counter += 1\n",
    "    zero = list(condition['number_of_errors']).count(0)\n",
    "    one = list(condition['number_of_errors']).count(1)\n",
    "    two = list(condition['number_of_errors']).count(2)\n",
    "    more = 32 - two - one - zero \n",
    "    errors = [zero, one, two, more]\n",
    "    \n",
    "    x = []\n",
    "    for i in range(len(errors)):\n",
    "        x.append(counter + width*i)\n",
    "        xtlist.append(counter + width*(i+0.5))\n",
    "        \n",
    "    lab = \"\"\n",
    "    if bool(condition['bubble_pointer'].iloc[0]) == True:\n",
    "        lab += \"Bubble \"\n",
    "    else:\n",
    "        lab += \"Standard \"\n",
    "    lab += str(condition['target_size'].iloc[0])\n",
    "    \n",
    "    rects.append(bar(x, errors, width, color=colors[counter-1], label=lab))\n",
    "\n",
    "    \n",
    "for chart in rects:\n",
    "    for rect in chart:\n",
    "        height = rect.get_height()\n",
    "        text(rect.get_x() + rect.get_width()/2., 1.05*height,\n",
    "                '%d' % int(height),\n",
    "                ha='center', va='bottom')\n",
    "        \n",
    "xlabel('Condition')\n",
    "ylabel('Number of Errors ({} tries)'.format(len(bubble16)))\n",
    "xticks(xtlist)\n",
    "axes().set_xticklabels([0,1,2,3,0,1,2,3,0,1,2,3,0,1,2,3])\n",
    "        \n",
    "legend()"
   ]
  },
  {
   "cell_type": "code",
   "execution_count": null,
   "metadata": {},
   "outputs": [],
   "source": []
  },
  {
   "cell_type": "code",
   "execution_count": null,
   "metadata": {
    "collapsed": true
   },
   "outputs": [],
   "source": []
  },
  {
   "cell_type": "markdown",
   "metadata": {},
   "source": [
    "## Analyzing small targets with size 16 to larger targets with size 32"
   ]
  },
  {
   "cell_type": "markdown",
   "metadata": {},
   "source": [
    "### Comparision of time on tasks of small versus large targets"
   ]
  },
  {
   "cell_type": "code",
   "execution_count": 59,
   "metadata": {},
   "outputs": [
    {
     "data": {
      "image/png": "[encoded data removed]",
      "text/plain": [
       "<matplotlib.figure.Figure at 0x7f13ca53f780>"
      ]
     },
     "metadata": {},
     "output_type": "display_data"
    }
   ],
   "source": [
    "boxplot([small_target['reaction_time'], large_target['reaction_time']]);\n",
    "\n",
    "\n",
    "xlabel('Target Size in px')\n",
    "ylabel('Reaction Time in milliseconds')\n",
    "xticks([1, 2]);\n",
    "axes().set_xticklabels([\"16\", \"32\"]);\n",
    "        "
   ]
  },
  {
   "cell_type": "code",
   "execution_count": null,
   "metadata": {
    "collapsed": true
   },
   "outputs": [],
   "source": []
  },
  {
   "cell_type": "code",
   "execution_count": null,
   "metadata": {
    "collapsed": true
   },
   "outputs": [],
   "source": []
  },
  {
   "cell_type": "code",
   "execution_count": null,
   "metadata": {
    "collapsed": true
   },
   "outputs": [],
   "source": []
  },
  {
   "cell_type": "code",
   "execution_count": null,
   "metadata": {
    "collapsed": true
   },
   "outputs": [],
   "source": []
  },
  {
   "cell_type": "code",
   "execution_count": null,
   "metadata": {
    "collapsed": true
   },
   "outputs": [],
   "source": []
  },
  {
   "cell_type": "code",
   "execution_count": null,
   "metadata": {
    "collapsed": true
   },
   "outputs": [],
   "source": []
  },
  {
   "cell_type": "code",
   "execution_count": null,
   "metadata": {
    "collapsed": true
   },
   "outputs": [],
   "source": []
  },
  {
   "cell_type": "code",
   "execution_count": null,
   "metadata": {
    "collapsed": true
   },
   "outputs": [],
   "source": []
  },
  {
   "cell_type": "code",
   "execution_count": null,
   "metadata": {
    "collapsed": true
   },
   "outputs": [],
   "source": []
  },
  {
   "cell_type": "code",
   "execution_count": null,
   "metadata": {
    "collapsed": true
   },
   "outputs": [],
   "source": []
  },
  {
   "cell_type": "code",
   "execution_count": null,
   "metadata": {
    "collapsed": true
   },
   "outputs": [],
   "source": []
  },
  {
   "cell_type": "code",
   "execution_count": null,
   "metadata": {
    "collapsed": true
   },
   "outputs": [],
   "source": []
  },
  {
   "cell_type": "code",
   "execution_count": null,
   "metadata": {
    "collapsed": true
   },
   "outputs": [],
   "source": []
  },
  {
   "cell_type": "code",
   "execution_count": null,
   "metadata": {
    "collapsed": true
   },
   "outputs": [],
   "source": []
  },
  {
   "cell_type": "code",
   "execution_count": null,
   "metadata": {
    "collapsed": true
   },
   "outputs": [],
   "source": []
  },
  {
   "cell_type": "code",
   "execution_count": null,
   "metadata": {
    "collapsed": true
   },
   "outputs": [],
   "source": []
  },
  {
   "cell_type": "code",
   "execution_count": null,
   "metadata": {
    "collapsed": true
   },
   "outputs": [],
   "source": []
  },
  {
   "cell_type": "code",
   "execution_count": null,
   "metadata": {
    "collapsed": true
   },
   "outputs": [],
   "source": []
  },
  {
   "cell_type": "code",
   "execution_count": null,
   "metadata": {
    "collapsed": true
   },
   "outputs": [],
   "source": []
  },
  {
   "cell_type": "code",
   "execution_count": null,
   "metadata": {
    "collapsed": true
   },
   "outputs": [],
   "source": []
  },
  {
   "cell_type": "code",
   "execution_count": null,
   "metadata": {
    "collapsed": true
   },
   "outputs": [],
   "source": []
  }
 ],
 "metadata": {
  "kernelspec": {
   "display_name": "Python 3",
   "language": "python",
   "name": "python3"
  },
  "language_info": {
   "codemirror_mode": {
    "name": "ipython",
    "version": 3
   },
   "file_extension": ".py",
   "mimetype": "text/x-python",
   "name": "python",
   "nbconvert_exporter": "python",
   "pygments_lexer": "ipython3",
   "version": "3.5.2"
  }
 },
 "nbformat": 4,
 "nbformat_minor": 2
}
