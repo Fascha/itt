{
 "cells": [
  {
   "cell_type": "markdown",
   "metadata": {},
   "source": [
    "# Pointing Technique Experiment"
   ]
  },
  {
   "cell_type": "markdown",
   "metadata": {},
   "source": [
    "a short documentation of your test design (pointing technique, hypotheses, variables, participants)\n",
    "This experiment was conducted to evaluate a new pointing technique. Therefore, participants had to perform 16 tasks in which they were presented a number of circles where one of them was highlighted in a green color. The partisipant was asked \n",
    "When the\n",
    "independent variables type of pointing technique, sizes of targets, paticipants\n",
    "dependent variables: reaction time in microseconds, error rate\n",
    "control variables: the cursor is set to the center of the window, there are two sizes "
   ]
  },
  {
   "cell_type": "code",
   "execution_count": 5,
   "metadata": {
    "collapsed": true
   },
   "outputs": [],
   "source": [
    "import numpy as np\n",
    "\n",
    "%matplotlib inline\n",
    "from pylab import *"
   ]
  },
  {
   "cell_type": "markdown",
   "metadata": {
    "collapsed": true
   },
   "source": [
    "code which imports the raw data from a CSV file and extracts the relevant data for further processing\n",
    "(the CSV file should be in the same directory)"
   ]
  },
  {
   "cell_type": "code",
   "execution_count": 10,
   "metadata": {
    "collapsed": true
   },
   "outputs": [],
   "source": [
    "data = []\n",
    "for i in range(1,4):\n",
    "    data.append(np.genfromtxt('pointing_experiment_result_{}.csv'.format(i), dtype=None, delimiter=',', names=True))\n",
    "    \n",
    "data1, data2, data3 = data"
   ]
  },
  {
   "cell_type": "code",
   "execution_count": null,
   "metadata": {
    "collapsed": true
   },
   "outputs": [],
   "source": []
  }
 ],
 "metadata": {
  "kernelspec": {
   "display_name": "Python 3",
   "language": "python",
   "name": "python3"
  },
  "language_info": {
   "codemirror_mode": {
    "name": "ipython",
    "version": 3
   },
   "file_extension": ".py",
   "mimetype": "text/x-python",
   "name": "python",
   "nbconvert_exporter": "python",
   "pygments_lexer": "ipython3",
   "version": "3.5.3"
  }
 },
 "nbformat": 4,
 "nbformat_minor": 2
}
