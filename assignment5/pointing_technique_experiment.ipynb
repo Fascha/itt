{
 "cells": [
  {
   "cell_type": "markdown",
   "metadata": {},
   "source": [
    "# Pointing Technique Experiment"
   ]
  },
  {
   "cell_type": "markdown",
   "metadata": {},
   "source": [
    "This experiment was conducted to evaluate a pointing technique which should help the user select objects. Therefore, participants had to perform two sets of tasks in which they were presented a number of targets where one of them was highlighted in a green color.The participant was asked to try to click as fast as possible on the highlighted target. \n",
    "One time they had to perform the tasks with a standard mouse pointer and the other time with a new pointing technique, where the closest target to the cursor was highlighted in a red color and could be directly selected by the participant - without moving the cursor to the position of the highlighted circle. This was visually presented to the user in form of a blue bubble.\n",
    "Participant 1 and 3 had to perform the new pointing technique first and afterwards the standard pointing technique. Participants 2 and 4 performed the tasks the other way round, so they started with the standard technique and than the new technique.\n",
    "The experiment was set up with the follwing variables and conditions:\n",
    "\n",
    "Independent variables: \n",
    "type of pointing technique (new pointing technique or standard), \n",
    "distances between starting position and position of targets (125, 200, 275, 350), \n",
    "sizes of targets (16, 32),\n",
    "participants\n",
    "    \n",
    "Dependent variables: \n",
    "reaction time in microseconds, error rate\n",
    "    \n",
    "Control variables: \n",
    "starting position (always the middle of the window), \n",
    "number of distraction circles (50)\n",
    "\n",
    "Each set of tasks consisted of 16 tasks with varying values of the independent variables distances and sizes. The variations were generated in a pseudo-randomized order, so that each distance condition was generated 4 times and each size of the target was shown 8 times. Furthermore, it was ensured that each distance was shown exactly 2 times with the smaller targets and 2 times with the larger targets.\n",
    "The following hypothesis was definded:\n",
    "The reaction time of the bubble pointing technique is smaller than the reaction time of the standard poiting technqiue.\n",
    "The error rate of the bubble pointing technique is smaller than the error rate of the standard pointing technique.\n",
    "4 participants took part in the experiment. They were all between the ages of 23 and 25 and are studying at the University of Regensburg."
   ]
  },
  {
   "cell_type": "code",
   "execution_count": 3,
   "metadata": {
    "collapsed": true
   },
   "outputs": [],
   "source": [
    "import numpy as np\n",
    "import pandas as pd\n",
    "\n",
    "%matplotlib inline\n",
    "from pylab import *"
   ]
  },
  {
   "cell_type": "markdown",
   "metadata": {
    "collapsed": true
   },
   "source": [
    "code which imports the raw data from a CSV file and extracts the relevant data for further processing\n",
    "(the CSV file should be in the same directory)"
   ]
  },
  {
   "cell_type": "code",
   "execution_count": 16,
   "metadata": {
    "collapsed": true
   },
   "outputs": [],
   "source": [
    "data = []\n",
    "for i in range(1,4):\n",
    "    data.append(np.genfromtxt('pointing_experiment_result_{}.csv'.format(i), dtype=None, delimiter=',', names=True))\n",
    "    \n",
    "data1, data2, data3 = data"
   ]
  },
  {
   "cell_type": "code",
   "execution_count": null,
   "metadata": {
    "collapsed": true
   },
   "outputs": [],
   "source": []
  },
  {
   "cell_type": "code",
   "execution_count": 17,
   "metadata": {},
   "outputs": [
    {
     "data": {
      "text/html": [
       "<div>\n",
       "<table border=\"1\" class=\"dataframe\">\n",
       "  <thead>\n",
       "    <tr style=\"text-align: right;\">\n",
       "      <th></th>\n",
       "      <th>timestamp</th>\n",
       "      <th>id</th>\n",
       "      <th>num_task</th>\n",
       "      <th>target_distance</th>\n",
       "      <th>target_size</th>\n",
       "      <th>bubble_pointer</th>\n",
       "      <th>reaction_time</th>\n",
       "      <th>number_of_errors</th>\n",
       "      <th>start_x</th>\n",
       "      <th>start_y</th>\n",
       "      <th>cursor_x</th>\n",
       "      <th>cursor_y</th>\n",
       "    </tr>\n",
       "  </thead>\n",
       "  <tbody>\n",
       "    <tr>\n",
       "      <th>0</th>\n",
       "      <td>2017-06-13T15:07:59</td>\n",
       "      <td>2</td>\n",
       "      <td>0</td>\n",
       "      <td>350</td>\n",
       "      <td>32</td>\n",
       "      <td>False</td>\n",
       "      <td>1233</td>\n",
       "      <td>0</td>\n",
       "      <td>400</td>\n",
       "      <td>400</td>\n",
       "      <td>622</td>\n",
       "      <td>661</td>\n",
       "    </tr>\n",
       "    <tr>\n",
       "      <th>1</th>\n",
       "      <td>2017-06-13T15:08:01</td>\n",
       "      <td>2</td>\n",
       "      <td>1</td>\n",
       "      <td>350</td>\n",
       "      <td>16</td>\n",
       "      <td>False</td>\n",
       "      <td>2203</td>\n",
       "      <td>0</td>\n",
       "      <td>400</td>\n",
       "      <td>400</td>\n",
       "      <td>85</td>\n",
       "      <td>565</td>\n",
       "    </tr>\n",
       "    <tr>\n",
       "      <th>2</th>\n",
       "      <td>2017-06-13T15:08:03</td>\n",
       "      <td>2</td>\n",
       "      <td>2</td>\n",
       "      <td>250</td>\n",
       "      <td>32</td>\n",
       "      <td>False</td>\n",
       "      <td>1209</td>\n",
       "      <td>0</td>\n",
       "      <td>400</td>\n",
       "      <td>400</td>\n",
       "      <td>166</td>\n",
       "      <td>468</td>\n",
       "    </tr>\n",
       "    <tr>\n",
       "      <th>3</th>\n",
       "      <td>2017-06-13T15:08:04</td>\n",
       "      <td>2</td>\n",
       "      <td>3</td>\n",
       "      <td>150</td>\n",
       "      <td>32</td>\n",
       "      <td>False</td>\n",
       "      <td>1042</td>\n",
       "      <td>0</td>\n",
       "      <td>400</td>\n",
       "      <td>400</td>\n",
       "      <td>381</td>\n",
       "      <td>544</td>\n",
       "    </tr>\n",
       "    <tr>\n",
       "      <th>4</th>\n",
       "      <td>2017-06-13T15:08:05</td>\n",
       "      <td>2</td>\n",
       "      <td>4</td>\n",
       "      <td>50</td>\n",
       "      <td>16</td>\n",
       "      <td>False</td>\n",
       "      <td>1146</td>\n",
       "      <td>0</td>\n",
       "      <td>400</td>\n",
       "      <td>400</td>\n",
       "      <td>354</td>\n",
       "      <td>379</td>\n",
       "    </tr>\n",
       "  </tbody>\n",
       "</table>\n",
       "</div>"
      ],
      "text/plain": [
       "             timestamp  id  num_task  target_distance  target_size  \\\n",
       "0  2017-06-13T15:07:59   2         0              350           32   \n",
       "1  2017-06-13T15:08:01   2         1              350           16   \n",
       "2  2017-06-13T15:08:03   2         2              250           32   \n",
       "3  2017-06-13T15:08:04   2         3              150           32   \n",
       "4  2017-06-13T15:08:05   2         4               50           16   \n",
       "\n",
       "  bubble_pointer  reaction_time  number_of_errors  start_x  start_y  cursor_x  \\\n",
       "0          False           1233                 0      400      400       622   \n",
       "1          False           2203                 0      400      400        85   \n",
       "2          False           1209                 0      400      400       166   \n",
       "3          False           1042                 0      400      400       381   \n",
       "4          False           1146                 0      400      400       354   \n",
       "\n",
       "   cursor_y  \n",
       "0       661  \n",
       "1       565  \n",
       "2       468  \n",
       "3       544  \n",
       "4       379  "
      ]
     },
     "execution_count": 17,
     "metadata": {},
     "output_type": "execute_result"
    }
   ],
   "source": [
    "df = pd.read_csv('pointing_experiment_results.csv')\n",
    "df.head()"
   ]
  },
  {
   "cell_type": "code",
   "execution_count": null,
   "metadata": {
    "collapsed": true
   },
   "outputs": [],
   "source": []
  },
  {
   "cell_type": "code",
   "execution_count": 18,
   "metadata": {},
   "outputs": [
    {
     "data": {
      "text/plain": [
       "0     350\n",
       "1     350\n",
       "2     250\n",
       "3     150\n",
       "4      50\n",
       "5     350\n",
       "6      50\n",
       "7     250\n",
       "8     250\n",
       "9     250\n",
       "10    150\n",
       "11     50\n",
       "12    150\n",
       "13    150\n",
       "14    350\n",
       "15     50\n",
       "16    350\n",
       "17    350\n",
       "18    150\n",
       "19    150\n",
       "20    250\n",
       "21    350\n",
       "22    350\n",
       "23    350\n",
       "24    250\n",
       "25     50\n",
       "26     50\n",
       "Name: target_distance, dtype: int64"
      ]
     },
     "execution_count": 18,
     "metadata": {},
     "output_type": "execute_result"
    }
   ],
   "source": [
    "df['target_distance']"
   ]
  },
  {
   "cell_type": "code",
   "execution_count": 19,
   "metadata": {},
   "outputs": [
    {
     "name": "stderr",
     "output_type": "stream",
     "text": [
      "/usr/lib/python3/dist-packages/pandas/core/ops.py:792: FutureWarning: elementwise comparison failed; returning scalar instead, but in the future will perform elementwise comparison\n",
      "  result = getattr(x, name)(y)\n"
     ]
    },
    {
     "ename": "TypeError",
     "evalue": "invalid type comparison",
     "output_type": "error",
     "traceback": [
      "\u001b[0;31m---------------------------------------------------------------------------\u001b[0m",
      "\u001b[0;31mTypeError\u001b[0m                                 Traceback (most recent call last)",
      "\u001b[0;32m<ipython-input-19-6d0b902e88b8>\u001b[0m in \u001b[0;36m<module>\u001b[0;34m()\u001b[0m\n\u001b[0;32m----> 1\u001b[0;31m \u001b[0mbubble_cursor\u001b[0m \u001b[0;34m=\u001b[0m \u001b[0mdf\u001b[0m\u001b[0;34m.\u001b[0m\u001b[0mloc\u001b[0m\u001b[0;34m[\u001b[0m\u001b[0mdf\u001b[0m\u001b[0;34m[\u001b[0m\u001b[0;34m'bubble_pointer'\u001b[0m\u001b[0;34m]\u001b[0m \u001b[0;34m==\u001b[0m \u001b[0;34m'True'\u001b[0m\u001b[0;34m]\u001b[0m\u001b[0;34m\u001b[0m\u001b[0m\n\u001b[0m\u001b[1;32m      2\u001b[0m \u001b[0mstandard_cursor\u001b[0m \u001b[0;34m=\u001b[0m \u001b[0mdf\u001b[0m\u001b[0;34m.\u001b[0m\u001b[0mloc\u001b[0m\u001b[0;34m[\u001b[0m\u001b[0mdf\u001b[0m\u001b[0;34m[\u001b[0m\u001b[0;34m'bubble_pointer'\u001b[0m\u001b[0;34m]\u001b[0m \u001b[0;34m==\u001b[0m \u001b[0;34m'False'\u001b[0m\u001b[0;34m]\u001b[0m\u001b[0;34m\u001b[0m\u001b[0m\n",
      "\u001b[0;32m/usr/lib/python3/dist-packages/pandas/core/ops.py\u001b[0m in \u001b[0;36mwrapper\u001b[0;34m(self, other, axis)\u001b[0m\n\u001b[1;32m    853\u001b[0m \u001b[0;34m\u001b[0m\u001b[0m\n\u001b[1;32m    854\u001b[0m             \u001b[0;32mwith\u001b[0m \u001b[0mnp\u001b[0m\u001b[0;34m.\u001b[0m\u001b[0merrstate\u001b[0m\u001b[0;34m(\u001b[0m\u001b[0mall\u001b[0m\u001b[0;34m=\u001b[0m\u001b[0;34m'ignore'\u001b[0m\u001b[0;34m)\u001b[0m\u001b[0;34m:\u001b[0m\u001b[0;34m\u001b[0m\u001b[0m\n\u001b[0;32m--> 855\u001b[0;31m                 \u001b[0mres\u001b[0m \u001b[0;34m=\u001b[0m \u001b[0mna_op\u001b[0m\u001b[0;34m(\u001b[0m\u001b[0mvalues\u001b[0m\u001b[0;34m,\u001b[0m \u001b[0mother\u001b[0m\u001b[0;34m)\u001b[0m\u001b[0;34m\u001b[0m\u001b[0m\n\u001b[0m\u001b[1;32m    856\u001b[0m             \u001b[0;32mif\u001b[0m \u001b[0misscalar\u001b[0m\u001b[0;34m(\u001b[0m\u001b[0mres\u001b[0m\u001b[0;34m)\u001b[0m\u001b[0;34m:\u001b[0m\u001b[0;34m\u001b[0m\u001b[0m\n\u001b[1;32m    857\u001b[0m                 raise TypeError('Could not compare %s type with Series' %\n",
      "\u001b[0;32m/usr/lib/python3/dist-packages/pandas/core/ops.py\u001b[0m in \u001b[0;36mna_op\u001b[0;34m(x, y)\u001b[0m\n\u001b[1;32m    792\u001b[0m                     \u001b[0mresult\u001b[0m \u001b[0;34m=\u001b[0m \u001b[0mgetattr\u001b[0m\u001b[0;34m(\u001b[0m\u001b[0mx\u001b[0m\u001b[0;34m,\u001b[0m \u001b[0mname\u001b[0m\u001b[0;34m)\u001b[0m\u001b[0;34m(\u001b[0m\u001b[0my\u001b[0m\u001b[0;34m)\u001b[0m\u001b[0;34m\u001b[0m\u001b[0m\n\u001b[1;32m    793\u001b[0m                 \u001b[0;32mif\u001b[0m \u001b[0mresult\u001b[0m \u001b[0;32mis\u001b[0m \u001b[0mNotImplemented\u001b[0m\u001b[0;34m:\u001b[0m\u001b[0;34m\u001b[0m\u001b[0m\n\u001b[0;32m--> 794\u001b[0;31m                     \u001b[0;32mraise\u001b[0m \u001b[0mTypeError\u001b[0m\u001b[0;34m(\u001b[0m\u001b[0;34m\"invalid type comparison\"\u001b[0m\u001b[0;34m)\u001b[0m\u001b[0;34m\u001b[0m\u001b[0m\n\u001b[0m\u001b[1;32m    795\u001b[0m             \u001b[0;32mexcept\u001b[0m \u001b[0mAttributeError\u001b[0m\u001b[0;34m:\u001b[0m\u001b[0;34m\u001b[0m\u001b[0m\n\u001b[1;32m    796\u001b[0m                 \u001b[0mresult\u001b[0m \u001b[0;34m=\u001b[0m \u001b[0mop\u001b[0m\u001b[0;34m(\u001b[0m\u001b[0mx\u001b[0m\u001b[0;34m,\u001b[0m \u001b[0my\u001b[0m\u001b[0;34m)\u001b[0m\u001b[0;34m\u001b[0m\u001b[0m\n",
      "\u001b[0;31mTypeError\u001b[0m: invalid type comparison"
     ]
    }
   ],
   "source": [
    "bubble_cursor = df.loc[df['bubble_pointer'] == 'True']\n",
    "standard_cursor = df.loc[df['bubble_pointer'] == 'False']"
   ]
  },
  {
   "cell_type": "code",
   "execution_count": null,
   "metadata": {
    "collapsed": true
   },
   "outputs": [],
   "source": []
  }
 ],
 "metadata": {
  "kernelspec": {
   "display_name": "Python 3",
   "language": "python",
   "name": "python3"
  },
  "language_info": {
   "codemirror_mode": {
    "name": "ipython",
    "version": 3
   },
   "file_extension": ".py",
   "mimetype": "text/x-python",
   "name": "python",
   "nbconvert_exporter": "python",
   "pygments_lexer": "ipython3",
   "version": "3.5.3"
  }
 },
 "nbformat": 4,
 "nbformat_minor": 2
}
