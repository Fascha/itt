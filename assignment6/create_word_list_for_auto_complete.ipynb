{
 "cells": [
  {
   "cell_type": "code",
   "execution_count": 5,
   "metadata": {
    "collapsed": true
   },
   "outputs": [],
   "source": [
    "import pandas as pd"
   ]
  },
  {
   "cell_type": "code",
   "execution_count": null,
   "metadata": {
    "collapsed": true
   },
   "outputs": [],
   "source": []
  },
  {
   "cell_type": "code",
   "execution_count": 16,
   "metadata": {
    "collapsed": true
   },
   "outputs": [],
   "source": [
    "filepath = 'mostfrequentwords_top5000.csv'"
   ]
  },
  {
   "cell_type": "code",
   "execution_count": 17,
   "metadata": {},
   "outputs": [],
   "source": [
    "df = pd.DataFrame.from_csv(filepath, sep=';')"
   ]
  },
  {
   "cell_type": "code",
   "execution_count": 18,
   "metadata": {},
   "outputs": [
    {
     "data": {
      "text/html": [
       "<div>\n",
       "<style>\n",
       "    .dataframe thead tr:only-child th {\n",
       "        text-align: right;\n",
       "    }\n",
       "\n",
       "    .dataframe thead th {\n",
       "        text-align: left;\n",
       "    }\n",
       "\n",
       "    .dataframe tbody tr th {\n",
       "        vertical-align: top;\n",
       "    }\n",
       "</style>\n",
       "<table border=\"1\" class=\"dataframe\">\n",
       "  <thead>\n",
       "    <tr style=\"text-align: right;\">\n",
       "      <th></th>\n",
       "      <th>Word</th>\n",
       "      <th>Part of speech</th>\n",
       "      <th>Frequency</th>\n",
       "      <th>Dispersion</th>\n",
       "    </tr>\n",
       "    <tr>\n",
       "      <th>Rank</th>\n",
       "      <th></th>\n",
       "      <th></th>\n",
       "      <th></th>\n",
       "      <th></th>\n",
       "    </tr>\n",
       "  </thead>\n",
       "  <tbody>\n",
       "    <tr>\n",
       "      <th>1</th>\n",
       "      <td>the</td>\n",
       "      <td>a</td>\n",
       "      <td>22038615</td>\n",
       "      <td>0,98</td>\n",
       "    </tr>\n",
       "    <tr>\n",
       "      <th>2</th>\n",
       "      <td>be</td>\n",
       "      <td>v</td>\n",
       "      <td>12545825</td>\n",
       "      <td>0,97</td>\n",
       "    </tr>\n",
       "    <tr>\n",
       "      <th>3</th>\n",
       "      <td>and</td>\n",
       "      <td>c</td>\n",
       "      <td>10741073</td>\n",
       "      <td>0,99</td>\n",
       "    </tr>\n",
       "    <tr>\n",
       "      <th>4</th>\n",
       "      <td>of</td>\n",
       "      <td>i</td>\n",
       "      <td>10343885</td>\n",
       "      <td>0,97</td>\n",
       "    </tr>\n",
       "    <tr>\n",
       "      <th>5</th>\n",
       "      <td>a</td>\n",
       "      <td>a</td>\n",
       "      <td>10144200</td>\n",
       "      <td>0,98</td>\n",
       "    </tr>\n",
       "  </tbody>\n",
       "</table>\n",
       "</div>"
      ],
      "text/plain": [
       "        Word Part of speech  Frequency Dispersion\n",
       "Rank                                             \n",
       "1        the              a   22038615       0,98\n",
       "2         be              v   12545825       0,97\n",
       "3        and              c   10741073       0,99\n",
       "4         of              i   10343885       0,97\n",
       "5          a              a   10144200       0,98"
      ]
     },
     "execution_count": 18,
     "metadata": {},
     "output_type": "execute_result"
    }
   ],
   "source": [
    "df.head()"
   ]
  },
  {
   "cell_type": "code",
   "execution_count": 19,
   "metadata": {},
   "outputs": [
    {
     "data": {
      "text/plain": [
       "['Word', 'Part of speech', 'Frequency', 'Dispersion']"
      ]
     },
     "execution_count": 19,
     "metadata": {},
     "output_type": "execute_result"
    }
   ],
   "source": [
    "list(df)"
   ]
  },
  {
   "cell_type": "code",
   "execution_count": 20,
   "metadata": {
    "scrolled": true
   },
   "outputs": [
    {
     "data": {
      "text/plain": [
       "Rank\n",
       "1                   the\n",
       "2                    be\n",
       "3                   and\n",
       "4                    of\n",
       "5                     a\n",
       "6                    in\n",
       "7                    to\n",
       "8                  have\n",
       "9                    to\n",
       "10                   it\n",
       "11                    I\n",
       "12                 that\n",
       "13                  for\n",
       "14                  you\n",
       "15                   he\n",
       "16                 with\n",
       "17                   on\n",
       "18                   do\n",
       "19                  say\n",
       "20                 this\n",
       "21                 they\n",
       "22                   at\n",
       "23                  but\n",
       "24                   we\n",
       "25                  his\n",
       "26                 from\n",
       "27                 that\n",
       "28                  not\n",
       "29                  n't\n",
       "30                   by\n",
       "             ...       \n",
       "4971            summary\n",
       "4972         missionary\n",
       "4973           epidemic\n",
       "4974              fatal\n",
       "4975               trim\n",
       "4976          warehouse\n",
       "4977         accelerate\n",
       "4978          butterfly\n",
       "4979             bronze\n",
       "4980              drown\n",
       "4981           inherent\n",
       "4982             praise\n",
       "4983         nationwide\n",
       "4984               spit\n",
       "4985            harvest\n",
       "4986              kneel\n",
       "4987             vacuum\n",
       "4988           selected\n",
       "4989            dictate\n",
       "4990         stereotype\n",
       "4991             sensor\n",
       "4992            laundry\n",
       "4993             manual\n",
       "4994             pistol\n",
       "4995              naval\n",
       "4996          plaintiff\n",
       "4997                kid\n",
       "4998       middle-class\n",
       "4999            apology\n",
       "5000               till\n",
       "Name: Word, Length: 5000, dtype: object"
      ]
     },
     "execution_count": 20,
     "metadata": {},
     "output_type": "execute_result"
    }
   ],
   "source": [
    "df['Word']"
   ]
  },
  {
   "cell_type": "code",
   "execution_count": 43,
   "metadata": {},
   "outputs": [],
   "source": [
    "wordsgt1 = []\n",
    "wordsgt2 = []\n",
    "wordsgt3 = []\n",
    "wordsgt4 = []\n",
    "for item in df['Word']:\n",
    "    item = item.strip()\n",
    "#     print(len(item))\n",
    "    if len(item) > 1:\n",
    "        if not \"'\" in item:\n",
    "            if not \"-\" in item:\n",
    "                wordsgt1.append(item)\n",
    "    if len(item) > 2:\n",
    "        if not \"'\" in item:\n",
    "            if not \"-\" in item:\n",
    "                wordsgt2.append(item)\n",
    "                \n",
    "    if len(item) > 3:\n",
    "        if not \"'\" in item:\n",
    "            if not \"-\" in item:\n",
    "                wordsgt3.append(item)\n",
    "                \n",
    "    if len(item) > 4:\n",
    "        if not \"'\" in item:\n",
    "            if not \"-\" in item:\n",
    "                wordsgt4.append(item)\n",
    "                \n",
    "                \n",
    "    "
   ]
  },
  {
   "cell_type": "code",
   "execution_count": 40,
   "metadata": {},
   "outputs": [
    {
     "data": {
      "text/plain": [
       "4980"
      ]
     },
     "execution_count": 40,
     "metadata": {},
     "output_type": "execute_result"
    }
   ],
   "source": [
    "len(wordsgt1)"
   ]
  },
  {
   "cell_type": "code",
   "execution_count": 41,
   "metadata": {},
   "outputs": [
    {
     "data": {
      "text/plain": [
       "4929"
      ]
     },
     "execution_count": 41,
     "metadata": {},
     "output_type": "execute_result"
    }
   ],
   "source": [
    "len(wordsgt2)"
   ]
  },
  {
   "cell_type": "code",
   "execution_count": 42,
   "metadata": {},
   "outputs": [
    {
     "data": {
      "text/plain": [
       "4653"
      ]
     },
     "execution_count": 42,
     "metadata": {},
     "output_type": "execute_result"
    }
   ],
   "source": [
    "len(wordsgt3)"
   ]
  },
  {
   "cell_type": "code",
   "execution_count": 44,
   "metadata": {},
   "outputs": [
    {
     "data": {
      "text/plain": [
       "3830"
      ]
     },
     "execution_count": 44,
     "metadata": {},
     "output_type": "execute_result"
    }
   ],
   "source": [
    "len(wordsgt4)"
   ]
  },
  {
   "cell_type": "code",
   "execution_count": 53,
   "metadata": {},
   "outputs": [],
   "source": [
    "wordsgt1 = list(set(wordsgt1))\n",
    "wordsgt2 = list(set(wordsgt2))\n",
    "wordsgt3 = list(set(wordsgt3))\n",
    "wordsgt4 = list(set(wordsgt4))"
   ]
  },
  {
   "cell_type": "code",
   "execution_count": 54,
   "metadata": {},
   "outputs": [],
   "source": [
    "with open('word_list_gt1', 'w') as f:\n",
    "    f.write(\"\\n\".join(wordsgt1))"
   ]
  },
  {
   "cell_type": "code",
   "execution_count": 55,
   "metadata": {
    "collapsed": true
   },
   "outputs": [],
   "source": [
    "with open('word_list_gt2', 'w') as f:\n",
    "    f.write(\"\\n\".join(wordsgt2))"
   ]
  },
  {
   "cell_type": "code",
   "execution_count": 56,
   "metadata": {
    "collapsed": true
   },
   "outputs": [],
   "source": [
    "with open('word_list_gt3', 'w') as f:\n",
    "    f.write(\"\\n\".join(wordsgt3))"
   ]
  },
  {
   "cell_type": "code",
   "execution_count": 57,
   "metadata": {
    "collapsed": true
   },
   "outputs": [],
   "source": [
    "with open('word_list_gt4', 'w') as f:\n",
    "    f.write(\"\\n\".join(wordsgt4))"
   ]
  },
  {
   "cell_type": "code",
   "execution_count": null,
   "metadata": {
    "collapsed": true
   },
   "outputs": [],
   "source": []
  },
  {
   "cell_type": "code",
   "execution_count": null,
   "metadata": {
    "collapsed": true
   },
   "outputs": [],
   "source": []
  }
 ],
 "metadata": {
  "kernelspec": {
   "display_name": "Python 3",
   "language": "python",
   "name": "python3"
  },
  "language_info": {
   "codemirror_mode": {
    "name": "ipython",
    "version": 3
   },
   "file_extension": ".py",
   "mimetype": "text/x-python",
   "name": "python",
   "nbconvert_exporter": "python",
   "pygments_lexer": "ipython3",
   "version": "3.5.2"
  }
 },
 "nbformat": 4,
 "nbformat_minor": 2
}
